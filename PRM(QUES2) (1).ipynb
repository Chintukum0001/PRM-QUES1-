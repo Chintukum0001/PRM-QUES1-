{
 "cells": [
  {
   "cell_type": "markdown",
   "id": "cccedc6f",
   "metadata": {},
   "source": [
    "# Triangle"
   ]
  },
  {
   "cell_type": "code",
   "execution_count": 8,
   "id": "dea27e6b",
   "metadata": {},
   "outputs": [
    {
     "name": "stdout",
     "output_type": "stream",
     "text": [
      "Invalid\n"
     ]
    }
   ],
   "source": [
    "\n",
    "def checkValidity(a, b, c):\n",
    "\n",
    "    if (a + b <= c) or (a + c <= b) or (b + c <= a) :\n",
    "        return False\n",
    "    else:\n",
    "        return True\t\n",
    "\n",
    "# driver code\n",
    "a = 3\n",
    "b = 14\n",
    "c = 5\n",
    "if checkValidity(a, b, c):\n",
    "\tprint(\"Valid\")\n",
    "else:\n",
    "\tprint(\"Invalid\")\n"
   ]
  },
  {
   "cell_type": "markdown",
   "id": "b96f7999",
   "metadata": {},
   "source": [
    "# Rectangle"
   ]
  },
  {
   "cell_type": "code",
   "execution_count": 10,
   "id": "54c50829",
   "metadata": {},
   "outputs": [
    {
     "name": "stdout",
     "output_type": "stream",
     "text": [
      "Yes\n"
     ]
    }
   ],
   "source": [
    "\n",
    "def itis(a, b, c, d):\n",
    "\n",
    "\n",
    "    if (a == b and d == c) or (a == c and b == d) or (a == d and b == c):\n",
    "        return True\n",
    "    else:\n",
    "        return False\n",
    "\n",
    "\n",
    "a, b, c, d = 2, 4, 2, 4\n",
    "print(\"Yes\" if itis(a, b, c, d) else \"No\")\n"
   ]
  }
 ],
 "metadata": {
  "kernelspec": {
   "display_name": "Python 3 (ipykernel)",
   "language": "python",
   "name": "python3"
  },
  "language_info": {
   "codemirror_mode": {
    "name": "ipython",
    "version": 3
   },
   "file_extension": ".py",
   "mimetype": "text/x-python",
   "name": "python",
   "nbconvert_exporter": "python",
   "pygments_lexer": "ipython3",
   "version": "3.11.0"
  }
 },
 "nbformat": 4,
 "nbformat_minor": 5
}
